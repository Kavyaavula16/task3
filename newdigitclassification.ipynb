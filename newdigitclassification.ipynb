{
  "nbformat": 4,
  "nbformat_minor": 0,
  "metadata": {
    "colab": {
      "provenance": [],
      "authorship_tag": "ABX9TyOZQiJ/siGUhoVryerOgblr",
      "include_colab_link": true
    },
    "kernelspec": {
      "name": "python3",
      "display_name": "Python 3"
    },
    "language_info": {
      "name": "python"
    }
  },
  "cells": [
    {
      "cell_type": "markdown",
      "metadata": {
        "id": "view-in-github",
        "colab_type": "text"
      },
      "source": [
        "<a href=\"https://colab.research.google.com/github/Kavyaavula16/task3/blob/main/newdigitclassification.ipynb\" target=\"_parent\"><img src=\"https://colab.research.google.com/assets/colab-badge.svg\" alt=\"Open In Colab\"/></a>"
      ]
    },
    {
      "cell_type": "code",
      "execution_count": null,
      "metadata": {
        "id": "Wi1nhZPI4T8j"
      },
      "outputs": [],
      "source": [
        "# Import necessary libraries\n",
        "import os\n",
        "import struct\n",
        "from array import array\n",
        "import numpy as np\n",
        "from tensorflow.keras import layers, models\n",
        "import matplotlib.pyplot as plt\n",
        "\n",
        "# Define a class for handling the MNIST dataset\n",
        "class MNIST(object):\n",
        "    def __init__(self, path='.'):\n",
        "        # Set the default path for the dataset\n",
        "        self.path = path\n",
        "\n",
        "        # Define filenames for test and training datasets\n",
        "        self.test_img_fname = 't10k-images-idx3-ubyte'\n",
        "        self.test_lbl_fname = 't10k-labels-idx1-ubyte'\n",
        "\n",
        "        self.train_img_fname = 'train-images-idx3-ubyte'\n",
        "        self.train_lbl_fname = 'train-labels-idx1-ubyte'\n",
        "\n",
        "        # Initialize lists to store images and labels\n",
        "        self.test_images = []\n",
        "        self.test_labels = []\n",
        "\n",
        "        self.train_images = []\n",
        "        self.train_labels = []\n",
        "\n",
        "    # Method to load the testing dataset\n",
        "    def load_testing(self):\n",
        "        ims, labels = self.load(os.path.join(self.path, self.test_img_fname),\n",
        "                                os.path.join(self.path, self.test_lbl_fname))\n",
        "\n",
        "        self.test_images = ims\n",
        "        self.test_labels = labels\n",
        "\n",
        "        return ims, labels\n",
        "\n",
        "    # Method to load the training dataset\n",
        "    def load_training(self):\n",
        "        ims, labels = self.load(os.path.join(self.path, self.train_img_fname),\n",
        "                                os.path.join(self.path, self.train_lbl_fname))\n",
        "\n",
        "        self.train_images = ims\n",
        "        self.train_labels = labels\n",
        "\n",
        "        return ims, labels"
      ]
    },
    {
      "cell_type": "code",
      "source": [
        "@classmethod\n",
        "def load(cls, path_img, path_lbl):\n",
        "  with open(path_lbl, 'rb') as file:\n",
        "    magic, size = struct.unpack(\">II\", file.read(8))\n",
        "    if magic != 2049:\n",
        "      raise ValueError('Magic number mismatch, expected 2049,'\n",
        "                                 'got {}'.format(magic))\n",
        "\n",
        "    labels = array(\"B\", file.read())\n",
        "  with open(path_img, 'rb') as file:\n",
        "    magic, size, rows, cols = struct.unpack(\">IIII\", file.read(16))\n",
        "    if magic != 2051:\n",
        "      raise ValueError('Magic number mismatch, expected 2051,'\n",
        "                                 'got {}'.format(magic))\n",
        "\n",
        "    image_data = array(\"B\", file.read())\n",
        "\n",
        "  images = []\n",
        "  for i in range(size):\n",
        "    images.append([0] * rows * cols)\n",
        "  for i in range(size):\n",
        "    images[i][:] = image_data[i * rows * cols:(i + 1) * rows * cols]\n",
        "  return images, labels\n",
        "\n",
        "    # Class method to display images in a text format\n",
        "@classmethod\n",
        "def display(cls, img, width=28, threshold=200):\n",
        "  render = ''\n",
        "  for i in range(len(img)):\n",
        "    if i % width == 0:\n",
        "      render += '\\n'\n",
        "    if img[i] > threshold:\n",
        "      render += '@'\n",
        "    else:\n",
        "      render += '.'\n",
        "  return render"
      ],
      "metadata": {
        "id": "SjTTqYkX4mEa"
      },
      "execution_count": null,
      "outputs": []
    },
    {
      "cell_type": "code",
      "source": [
        "dataset_path = r'C:\\Users\\kavya\\Downloads\\Handwritten-Digit-Recognition-using-Deep-Learning-main\\Handwritten-Digit-Recognition-using-Deep-Learning-main\\dataset'\n",
        "# Create an instance of the MNIST class\n",
        "mnist = MNIST(dataset_path)\n",
        "dataset_path = r'C:\\Users\\kavya\\Downloads\\Handwritten-Digit-Recognition-using-Deep-Learning-main\\Handwritten-Digit-Recognition-using-Deep-Learning-main\\dataset'\n",
        "# Create an instance of the MNIST class\n",
        "mnist = MNIST(dataset_path)"
      ],
      "metadata": {
        "id": "GH2d76n44mHE"
      },
      "execution_count": null,
      "outputs": []
    },
    {
      "cell_type": "code",
      "source": [
        "train_images = np.array(train_images).reshape(-1, 28, 28) / 255.0\n",
        "test_images = np.array(test_images).reshape(-1, 28, 28) / 255.0\n",
        "\n",
        "# Convert labels to NumPy arrays\n",
        "train_labels = np.array(train_labels)\n",
        "test_labels = np.array(test_labels)\n",
        "\n",
        "# Build a simple neural network model using Keras\n",
        "model = models.Sequential([\n",
        "    layers.Flatten(input_shape=(28, 28)),\n",
        "    layers.Dense(128, activation='relu'),\n",
        "    layers.Dense(10, activation='softmax')\n",
        "])\n",
        "\n",
        "# Compile the model\n",
        "model.compile(optimizer='adam',\n",
        "              loss='sparse_categorical_crossentropy',\n",
        "              metrics=['accuracy'])\n",
        "\n",
        "# Train the model on the training data\n",
        "model.fit(train_images, train_labels, epochs=5)\n",
        "\n",
        "# Evaluate the model on the test set\n",
        "test_loss, test_acc = model.evaluate(test_images, test_labels)\n",
        "print(f'Test accuracy: {test_acc}')\n",
        "\n",
        "# Make predictions on a few test images and save them\n",
        "selected_test_images = test_images[:5]\n",
        "selected_test_labels = test_labels[:5]\n",
        "\n",
        "predictions = model.predict(selected_test_images)\n",
        "\n",
        "# Display the images along with predictions and actual labels, and save them\n",
        "for i in range(len(selected_test_images)):\n",
        "    plt.imshow(selected_test_images[i], cmap='gray')  # No need to reshape for display\n",
        "    plt.title(f'Predicted: {np.argmax(predictions[i])}, Actual: {selected_test_labels[i]}')\n",
        "    plt.savefig(os.path.join(dataset_path, f'output_image_{i}.png'))\n",
        "    plt.show()"
      ],
      "metadata": {
        "id": "OfSU2iqE4mKc"
      },
      "execution_count": null,
      "outputs": []
    }
  ]
}